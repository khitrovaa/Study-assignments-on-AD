{
 "cells": [
  {
   "cell_type": "markdown",
   "id": "05f3ca92",
   "metadata": {},
   "source": [
    "### Пакеты и константы"
   ]
  },
  {
   "cell_type": "code",
   "execution_count": 1,
   "id": "ee173b5a",
   "metadata": {},
   "outputs": [],
   "source": [
    "import numpy as np\n",
    "import matplotlib.pyplot as plt\n",
    "from scipy.stats import mode\n",
    "from scipy.optimize import minimize\n",
    "\n",
    "COST = 7.5\n",
    "PRICE = 12\n",
    "PRICE_STOCK = 6\n",
    "QUANTITY_MEAN = 60\n",
    "QUANTITY_STD = 10\n",
    "N = 50_000"
   ]
  },
  {
   "cell_type": "markdown",
   "id": "5b2a4223",
   "metadata": {},
   "source": [
    "### Реализация"
   ]
  },
  {
   "cell_type": "markdown",
   "id": "0e532136",
   "metadata": {},
   "source": [
    "#### 1. Как вам кажется какая стратегия по покупкам минимизирует ваши риски?\n",
    "Интуитивно кажется, что недокупить это критичнее чем купить больше, потому что если останутся неиспользованные плавники, то их можно продать и не так много потерять. Поэтому оптимальное количество находится справа от 60.\n",
    "\n",
    "Для оценки прибыли достаточно оценить один день. При этом эта прибыль зависит только от:\n",
    "* сколько у нас купят (стохастическая величина) – говорится про нормальное распределение, но оно может принимать отрицательные значения, поэтому генерировать будет до тех пор пока не получим положительное число\n",
    "* сколько мы купим (наша стратегия)"
   ]
  },
  {
   "cell_type": "code",
   "execution_count": 2,
   "id": "0c6fc5d9",
   "metadata": {},
   "outputs": [],
   "source": [
    "def calculate_profit(buy_quantity):\n",
    "    real_quantity = -1\n",
    "    while real_quantity < 0:\n",
    "        real_quantity = np.random.normal(\n",
    "            loc=QUANTITY_MEAN, \n",
    "            scale=QUANTITY_STD, \n",
    "            size=1,\n",
    "        )\n",
    "\n",
    "    if real_quantity >= buy_quantity:\n",
    "        profit = PRICE * buy_quantity - COST * buy_quantity\n",
    "    else:\n",
    "        diff_quantity = buy_quantity - real_quantity\n",
    "        profit = PRICE * real_quantity - COST * buy_quantity\n",
    "        profit += diff_quantity * PRICE_STOCK\n",
    "        profit = profit[0]\n",
    "\n",
    "    return profit"
   ]
  },
  {
   "cell_type": "code",
   "execution_count": 3,
   "id": "bcf90999",
   "metadata": {},
   "outputs": [
    {
     "data": {
      "text/plain": [
       "270.0"
      ]
     },
     "execution_count": 3,
     "metadata": {},
     "output_type": "execute_result"
    }
   ],
   "source": [
    "calculate_profit(60)"
   ]
  },
  {
   "cell_type": "markdown",
   "id": "bcad9b7b",
   "metadata": {},
   "source": [
    "#### 2. Сколько плавников нужно ежедневно покупать у рыбаков, чтобы максимизировать прибыль?\n",
    "\n",
    "C помощью оптимизационных методов, можно узнать это. минизируем отрицательную прибыль"
   ]
  },
  {
   "cell_type": "code",
   "execution_count": 4,
   "id": "28e60da8",
   "metadata": {},
   "outputs": [],
   "source": [
    "def calculate_mean_profit(buy_quantity, N=10_000):\n",
    "    profits = [calculate_profit(buy_quantity) for _ in range(N)]\n",
    "    return np.mean(profits)\n",
    "\n",
    "\n",
    "def calculate_inverse_mean_profit(buy_quantity, N=10_000):\n",
    "    return -calculate_mean_profit(buy_quantity, N)"
   ]
  },
  {
   "cell_type": "code",
   "execution_count": 5,
   "id": "c8a6a909",
   "metadata": {},
   "outputs": [
    {
     "name": "stderr",
     "output_type": "stream",
     "text": [
      "/Users/akhmed.zarmanbetov/opt/anaconda3/lib/python3.9/site-packages/numpy/core/_methods.py:163: VisibleDeprecationWarning: Creating an ndarray from ragged nested sequences (which is a list-or-tuple of lists-or-tuples-or ndarrays with different lengths or shapes) is deprecated. If you meant to do this, you must specify 'dtype=object' when creating the ndarray.\n",
      "  arr = asanyarray(a)\n"
     ]
    },
    {
     "name": "stdout",
     "output_type": "stream",
     "text": [
      "Warning: Maximum number of function evaluations has been exceeded.\n",
      "69.0117180347429\n"
     ]
    }
   ],
   "source": [
    "res = minimize(\n",
    "    calculate_inverse_mean_profit,\n",
    "    60, \n",
    "    method='nelder-mead', \n",
    "    options={'xatol': 1e-8, 'disp': True},\n",
    ")\n",
    "buy_quantity_opt = res.x\n",
    "print(buy_quantity_opt[0])"
   ]
  },
  {
   "cell_type": "code",
   "execution_count": 6,
   "id": "1cd6c7f5",
   "metadata": {},
   "outputs": [
    {
     "data": {
      "text/plain": [
       "[<matplotlib.lines.Line2D at 0x7fe75ac63ca0>]"
      ]
     },
     "execution_count": 6,
     "metadata": {},
     "output_type": "execute_result"
    },
    {
     "data": {
      "image/png": "[encoded data removed]",
      "text/plain": [
       "<Figure size 432x288 with 1 Axes>"
      ]
     },
     "metadata": {
      "needs_background": "light"
     },
     "output_type": "display_data"
    }
   ],
   "source": [
    "x = np.linspace(10, 100, 19)\n",
    "y = [calculate_mean_profit(i, N=50_000) for i in x]\n",
    "\n",
    "plt.plot(x, y);"
   ]
  },
  {
   "cell_type": "markdown",
   "id": "dd8e1144",
   "metadata": {},
   "source": [
    "#### 3. Какова будет мода, медиана, средняя, 10 и 90 перцентиль ежедневной прибыль при вашем оптимальном заказе (естественно оптимальность зависит от вашей стратегии)?"
   ]
  },
  {
   "cell_type": "code",
   "execution_count": 7,
   "id": "cdd140c5",
   "metadata": {},
   "outputs": [
    {
     "name": "stdout",
     "output_type": "stream",
     "text": [
      "Mode profit: 310.55\n",
      "Median profit: 256.37\n",
      "Mean profit: 250.61\n",
      "10% percentile profit: 180.53\n",
      "90% percentile profit: 310.55\n"
     ]
    },
    {
     "data": {
      "image/png": "[encoded data removed]",
      "text/plain": [
       "<Figure size 1080x360 with 2 Axes>"
      ]
     },
     "metadata": {
      "needs_background": "light"
     },
     "output_type": "display_data"
    }
   ],
   "source": [
    "profits = [calculate_profit(buy_quantity_opt[0]) for _ in range(N)]\n",
    "print(f'Mode profit: {mode(profits).mode[0]:.5}')\n",
    "print(f'Median profit: {np.median(profits):.5}')\n",
    "print(f'Mean profit: {np.mean(profits):.5}')\n",
    "print(f'10% percentile profit: {np.percentile(profits, 10):.5}')\n",
    "print(f'90% percentile profit: {np.percentile(profits, 90):.5}')\n",
    "\n",
    "fig, ax = plt.subplots(1, 2, figsize = (15, 5))\n",
    "ax[0].hist(profits, bins=70, color = \"green\", edgecolor = \"black\", alpha = 0.5)\n",
    "ax[1].boxplot(profits);"
   ]
  },
  {
   "cell_type": "markdown",
   "id": "62d25c47",
   "metadata": {},
   "source": [
    "---"
   ]
  }
 ],
 "metadata": {
  "kernelspec": {
   "display_name": "Python 3 (ipykernel)",
   "language": "python",
   "name": "python3"
  },
  "language_info": {
   "codemirror_mode": {
    "name": "ipython",
    "version": 3
   },
   "file_extension": ".py",
   "mimetype": "text/x-python",
   "name": "python",
   "nbconvert_exporter": "python",
   "pygments_lexer": "ipython3",
   "version": "3.9.12"
  }
 },
 "nbformat": 4,
 "nbformat_minor": 5
}
